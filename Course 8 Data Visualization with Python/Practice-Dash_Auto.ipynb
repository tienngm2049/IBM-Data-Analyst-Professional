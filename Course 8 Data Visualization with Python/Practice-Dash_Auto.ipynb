{
 "cells": [
  {
   "cell_type": "code",
   "execution_count": null,
   "id": "acc99f79",
   "metadata": {},
   "outputs": [],
   "source": [
    "import pandas as pd\n",
    "import plotly.express as px\n",
    "from dash import Dash, html, dcc, Input, Output, State, callback"
   ]
  },
  {
   "cell_type": "code",
   "execution_count": null,
   "id": "c36b81d8",
   "metadata": {},
   "outputs": [],
   "source": [
    "app = Dash(__name__)\n",
    "\n",
    "# REVIEW1: Clear the layout and do not display exception till callback gets executed\n",
    "app.config.suppress_callback_exceptions = True\n",
    "\n",
    "# Read the automobiles data into pandas dataframe\n",
    "auto_data =  pd.read_csv('automobileEDA.csv', encoding = \"ISO-8859-1\")"
   ]
  },
  {
   "cell_type": "code",
   "execution_count": null,
   "id": "df532077",
   "metadata": {},
   "outputs": [],
   "source": [
    "auto_data.head()"
   ]
  },
  {
   "cell_type": "code",
   "execution_count": null,
   "id": "5c2b1164",
   "metadata": {
    "scrolled": false
   },
   "outputs": [],
   "source": [
    "# Define the layout\n",
    "app.layout = html.Div(children=[\n",
    "    html.H1('Car Automobile Component', style={'textAlign': 'center', 'color': '#503D36', 'font-size': 24}),\n",
    "\n",
    "    # Outer division\n",
    "    html.Div([\n",
    "        # First inner division for dropdown helper text\n",
    "        html.Div([\n",
    "            html.H2('Drive Wheels Type:', style={'margin-right': '2em'}),\n",
    "        ]),\n",
    "\n",
    "        # Dropdown component\n",
    "        dcc.Dropdown(\n",
    "            id='demo-dropdown',\n",
    "            options=[\n",
    "                {'label': 'Rear Wheel Drive', 'value': 'rwd'},\n",
    "                {'label': 'Front Wheel Drive', 'value': 'fwd'},\n",
    "                {'label': 'Four Wheel Drive', 'value': '4wd'}\n",
    "            ],\n",
    "            value='rwd'\n",
    "        ),\n",
    "\n",
    "        # Second inner division for output graphs\n",
    "        html.Div([\n",
    "            # Inner division for first output graph\n",
    "            html.Div([], id='plot1'),\n",
    "            \n",
    "            # Inner division for second output graph\n",
    "            html.Div([], id='plot2')\n",
    "        ], style={'display': 'flex'}),\n",
    "    ])\n",
    "])\n",
    "\n",
    "@app.callback(\n",
    "    [Output(component_id='plot1', component_property='children'),\n",
    "     Output(component_id='plot2', component_property='children')],\n",
    "    Input(component_id='demo-dropdown', component_property='value')\n",
    ")\n",
    "def display_selected_drive_charts(value):\n",
    "    # Filter the DataFrame based on selected drive wheels\n",
    "    filtered_df = auto_data[auto_data['drive-wheels'] == value].groupby(['drive-wheels', 'body-style'], as_index=False).mean()\n",
    "    \n",
    "    # Create a pie chart based on the filtered data\n",
    "    fig1 = px.pie(filtered_df, values='price', names='body-style', title=\"Pie Chart\")\n",
    "    \n",
    "    # Create a bar chart based on the filtered data\n",
    "    fig2 = px.bar(filtered_df, x='body-style', y='price', title='Bar Chart')\n",
    "\n",
    "    return [dcc.Graph(figure=fig1), dcc.Graph(figure=fig2)]\n",
    "\n",
    "if __name__ == '__main__':\n",
    "    app.run_server()"
   ]
  },
  {
   "cell_type": "code",
   "execution_count": null,
   "id": "0acf9a47",
   "metadata": {},
   "outputs": [],
   "source": []
  }
 ],
 "metadata": {
  "kernelspec": {
   "display_name": "Python 3 (ipykernel)",
   "language": "python",
   "name": "python3"
  },
  "language_info": {
   "codemirror_mode": {
    "name": "ipython",
    "version": 3
   },
   "file_extension": ".py",
   "mimetype": "text/x-python",
   "name": "python",
   "nbconvert_exporter": "python",
   "pygments_lexer": "ipython3",
   "version": "3.10.9"
  }
 },
 "nbformat": 4,
 "nbformat_minor": 5
}
